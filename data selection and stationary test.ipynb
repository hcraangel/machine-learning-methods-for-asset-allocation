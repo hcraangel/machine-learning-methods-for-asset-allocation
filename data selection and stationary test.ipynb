{
 "cells": [
  {
   "cell_type": "code",
   "execution_count": 1,
   "metadata": {},
   "outputs": [],
   "source": [
    "import pandas as pd"
   ]
  },
  {
   "cell_type": "code",
   "execution_count": 2,
   "metadata": {},
   "outputs": [],
   "source": [
    "features=pd.read_csv('features.csv')"
   ]
  },
  {
   "cell_type": "code",
   "execution_count": 3,
   "metadata": {
    "scrolled": false
   },
   "outputs": [
    {
     "data": {
      "text/html": [
       "<div>\n",
       "<style scoped>\n",
       "    .dataframe tbody tr th:only-of-type {\n",
       "        vertical-align: middle;\n",
       "    }\n",
       "\n",
       "    .dataframe tbody tr th {\n",
       "        vertical-align: top;\n",
       "    }\n",
       "\n",
       "    .dataframe thead th {\n",
       "        text-align: right;\n",
       "    }\n",
       "</style>\n",
       "<table border=\"1\" class=\"dataframe\">\n",
       "  <thead>\n",
       "    <tr style=\"text-align: right;\">\n",
       "      <th></th>\n",
       "      <th>date</th>\n",
       "      <th>GDP</th>\n",
       "      <th>IP</th>\n",
       "      <th>TY10</th>\n",
       "      <th>UR</th>\n",
       "      <th>NFP</th>\n",
       "      <th>AIC4W</th>\n",
       "      <th>FFRATE</th>\n",
       "      <th>CBYAAA</th>\n",
       "      <th>M1</th>\n",
       "      <th>...</th>\n",
       "      <th>GPDI</th>\n",
       "      <th>CU</th>\n",
       "      <th>UNEMPLOY</th>\n",
       "      <th>MICH</th>\n",
       "      <th>TWDI</th>\n",
       "      <th>WTI</th>\n",
       "      <th>TB6M</th>\n",
       "      <th>TOTBKCR</th>\n",
       "      <th>CFNAI</th>\n",
       "      <th>FGRECPT</th>\n",
       "    </tr>\n",
       "  </thead>\n",
       "  <tbody>\n",
       "    <tr>\n",
       "      <th>0</th>\n",
       "      <td>3/31/1919</td>\n",
       "      <td>NaN</td>\n",
       "      <td>83.0</td>\n",
       "      <td>NaN</td>\n",
       "      <td>NaN</td>\n",
       "      <td>NaN</td>\n",
       "      <td>NaN</td>\n",
       "      <td>NaN</td>\n",
       "      <td>5.35</td>\n",
       "      <td>NaN</td>\n",
       "      <td>...</td>\n",
       "      <td>NaN</td>\n",
       "      <td>NaN</td>\n",
       "      <td>NaN</td>\n",
       "      <td>NaN</td>\n",
       "      <td>NaN</td>\n",
       "      <td>NaN</td>\n",
       "      <td>NaN</td>\n",
       "      <td>NaN</td>\n",
       "      <td>NaN</td>\n",
       "      <td>NaN</td>\n",
       "    </tr>\n",
       "    <tr>\n",
       "      <th>1</th>\n",
       "      <td>4/30/1919</td>\n",
       "      <td>NaN</td>\n",
       "      <td>80.0</td>\n",
       "      <td>NaN</td>\n",
       "      <td>NaN</td>\n",
       "      <td>NaN</td>\n",
       "      <td>NaN</td>\n",
       "      <td>NaN</td>\n",
       "      <td>5.35</td>\n",
       "      <td>NaN</td>\n",
       "      <td>...</td>\n",
       "      <td>NaN</td>\n",
       "      <td>NaN</td>\n",
       "      <td>NaN</td>\n",
       "      <td>NaN</td>\n",
       "      <td>NaN</td>\n",
       "      <td>NaN</td>\n",
       "      <td>NaN</td>\n",
       "      <td>NaN</td>\n",
       "      <td>NaN</td>\n",
       "      <td>NaN</td>\n",
       "    </tr>\n",
       "    <tr>\n",
       "      <th>2</th>\n",
       "      <td>5/31/1919</td>\n",
       "      <td>NaN</td>\n",
       "      <td>77.0</td>\n",
       "      <td>NaN</td>\n",
       "      <td>NaN</td>\n",
       "      <td>NaN</td>\n",
       "      <td>NaN</td>\n",
       "      <td>NaN</td>\n",
       "      <td>5.39</td>\n",
       "      <td>NaN</td>\n",
       "      <td>...</td>\n",
       "      <td>NaN</td>\n",
       "      <td>NaN</td>\n",
       "      <td>NaN</td>\n",
       "      <td>NaN</td>\n",
       "      <td>NaN</td>\n",
       "      <td>NaN</td>\n",
       "      <td>NaN</td>\n",
       "      <td>NaN</td>\n",
       "      <td>NaN</td>\n",
       "      <td>NaN</td>\n",
       "    </tr>\n",
       "    <tr>\n",
       "      <th>3</th>\n",
       "      <td>6/30/1919</td>\n",
       "      <td>NaN</td>\n",
       "      <td>78.0</td>\n",
       "      <td>NaN</td>\n",
       "      <td>NaN</td>\n",
       "      <td>NaN</td>\n",
       "      <td>NaN</td>\n",
       "      <td>NaN</td>\n",
       "      <td>5.44</td>\n",
       "      <td>NaN</td>\n",
       "      <td>...</td>\n",
       "      <td>NaN</td>\n",
       "      <td>NaN</td>\n",
       "      <td>NaN</td>\n",
       "      <td>NaN</td>\n",
       "      <td>NaN</td>\n",
       "      <td>NaN</td>\n",
       "      <td>NaN</td>\n",
       "      <td>NaN</td>\n",
       "      <td>NaN</td>\n",
       "      <td>NaN</td>\n",
       "    </tr>\n",
       "    <tr>\n",
       "      <th>4</th>\n",
       "      <td>7/31/1919</td>\n",
       "      <td>NaN</td>\n",
       "      <td>77.0</td>\n",
       "      <td>NaN</td>\n",
       "      <td>NaN</td>\n",
       "      <td>NaN</td>\n",
       "      <td>NaN</td>\n",
       "      <td>NaN</td>\n",
       "      <td>5.39</td>\n",
       "      <td>NaN</td>\n",
       "      <td>...</td>\n",
       "      <td>NaN</td>\n",
       "      <td>NaN</td>\n",
       "      <td>NaN</td>\n",
       "      <td>NaN</td>\n",
       "      <td>NaN</td>\n",
       "      <td>NaN</td>\n",
       "      <td>NaN</td>\n",
       "      <td>NaN</td>\n",
       "      <td>NaN</td>\n",
       "      <td>NaN</td>\n",
       "    </tr>\n",
       "  </tbody>\n",
       "</table>\n",
       "<p>5 rows × 29 columns</p>\n",
       "</div>"
      ],
      "text/plain": [
       "        date  GDP    IP  TY10  UR  NFP  AIC4W  FFRATE  CBYAAA  M1   ...     \\\n",
       "0  3/31/1919  NaN  83.0   NaN NaN  NaN    NaN     NaN    5.35 NaN   ...      \n",
       "1  4/30/1919  NaN  80.0   NaN NaN  NaN    NaN     NaN    5.35 NaN   ...      \n",
       "2  5/31/1919  NaN  77.0   NaN NaN  NaN    NaN     NaN    5.39 NaN   ...      \n",
       "3  6/30/1919  NaN  78.0   NaN NaN  NaN    NaN     NaN    5.44 NaN   ...      \n",
       "4  7/31/1919  NaN  77.0   NaN NaN  NaN    NaN     NaN    5.39 NaN   ...      \n",
       "\n",
       "   GPDI  CU  UNEMPLOY  MICH  TWDI  WTI  TB6M  TOTBKCR  CFNAI  FGRECPT  \n",
       "0   NaN NaN       NaN   NaN   NaN  NaN   NaN      NaN    NaN      NaN  \n",
       "1   NaN NaN       NaN   NaN   NaN  NaN   NaN      NaN    NaN      NaN  \n",
       "2   NaN NaN       NaN   NaN   NaN  NaN   NaN      NaN    NaN      NaN  \n",
       "3   NaN NaN       NaN   NaN   NaN  NaN   NaN      NaN    NaN      NaN  \n",
       "4   NaN NaN       NaN   NaN   NaN  NaN   NaN      NaN    NaN      NaN  \n",
       "\n",
       "[5 rows x 29 columns]"
      ]
     },
     "execution_count": 3,
     "metadata": {},
     "output_type": "execute_result"
    }
   ],
   "source": [
    "features.head()"
   ]
  },
  {
   "cell_type": "markdown",
   "metadata": {},
   "source": [
    "IP:工业生产指数     TY：10年美债收益率         UR:失业率           AIC4W：4周平均初请失业人数          FFRATE：联邦基金利率 CBYAAA：穆迪3a指数    PSRATE：个人存款率        HSTART：新建房屋数      COMML：商业银行信贷               BDEBT:总借贷数 DISCRATE:联邦贴现率    BKRATE:银行贷款利率      LIBOR12M:12月伦敦银行同业拆借利率                       ICL：初请失业人数     MHP:房屋销售中间价    GPDI:私人部门总投资        CU:产能利用率：全行业    UNEMPLOY:失业水平              MICH：密歇根通货膨胀预期\n",
    "TWDI:实际美元指数      WTI：原油价格            TB6M：6个月国债        TOTBKCR：商业银行信贷        CFNAI：芝加哥消费者信心指数 \n",
    "FGRECPT:联邦政府收入"
   ]
  },
  {
   "cell_type": "code",
   "execution_count": 4,
   "metadata": {},
   "outputs": [
    {
     "name": "stdout",
     "output_type": "stream",
     "text": [
      "<class 'pandas.core.frame.DataFrame'>\n",
      "RangeIndex: 1195 entries, 0 to 1194\n",
      "Data columns (total 29 columns):\n",
      "date        1195 non-null object\n",
      "GDP         854 non-null float64\n",
      "IP          1195 non-null float64\n",
      "TY10        676 non-null float64\n",
      "UR          846 non-null float64\n",
      "NFP         956 non-null float64\n",
      "AIC4W       615 non-null float64\n",
      "FFRATE      768 non-null float64\n",
      "CBYAAA      1195 non-null float64\n",
      "M1          519 non-null float64\n",
      "PSRATE      713 non-null float64\n",
      "HSTART      713 non-null float64\n",
      "COMML       859 non-null float64\n",
      "BDEBT       625 non-null float64\n",
      "DISCRATE    845 non-null float64\n",
      "BKRATE      835 non-null float64\n",
      "LIBOR12M    385 non-null float64\n",
      "ICL         616 non-null float64\n",
      "MHP         664 non-null float64\n",
      "GPDI        953 non-null float64\n",
      "CU          616 non-null float64\n",
      "UNEMPLOY    847 non-null float64\n",
      "MICH        482 non-null float64\n",
      "TWDI        544 non-null float64\n",
      "WTI         871 non-null float64\n",
      "TB6M        713 non-null float64\n",
      "TOTBKCR     541 non-null float64\n",
      "CFNAI       614 non-null float64\n",
      "FGRECPT     867 non-null float64\n",
      "dtypes: float64(28), object(1)\n",
      "memory usage: 270.8+ KB\n"
     ]
    }
   ],
   "source": [
    "features.info()"
   ]
  },
  {
   "cell_type": "code",
   "execution_count": 5,
   "metadata": {},
   "outputs": [],
   "source": [
    "returns=pd.read_csv('returns.csv')"
   ]
  },
  {
   "cell_type": "code",
   "execution_count": 6,
   "metadata": {},
   "outputs": [
    {
     "data": {
      "text/html": [
       "<div>\n",
       "<style scoped>\n",
       "    .dataframe tbody tr th:only-of-type {\n",
       "        vertical-align: middle;\n",
       "    }\n",
       "\n",
       "    .dataframe tbody tr th {\n",
       "        vertical-align: top;\n",
       "    }\n",
       "\n",
       "    .dataframe thead th {\n",
       "        text-align: right;\n",
       "    }\n",
       "</style>\n",
       "<table border=\"1\" class=\"dataframe\">\n",
       "  <thead>\n",
       "    <tr style=\"text-align: right;\">\n",
       "      <th></th>\n",
       "      <th>date</th>\n",
       "      <th>SPY</th>\n",
       "      <th>DIA</th>\n",
       "      <th>IEF</th>\n",
       "      <th>GLD</th>\n",
       "    </tr>\n",
       "  </thead>\n",
       "  <tbody>\n",
       "    <tr>\n",
       "      <th>0</th>\n",
       "      <td>3/31/1919</td>\n",
       "      <td>0.011161</td>\n",
       "      <td>0.047636</td>\n",
       "      <td>0.001583</td>\n",
       "      <td>0.0</td>\n",
       "    </tr>\n",
       "    <tr>\n",
       "      <th>1</th>\n",
       "      <td>4/30/1919</td>\n",
       "      <td>0.057728</td>\n",
       "      <td>0.045357</td>\n",
       "      <td>0.004722</td>\n",
       "      <td>0.0</td>\n",
       "    </tr>\n",
       "    <tr>\n",
       "      <th>2</th>\n",
       "      <td>5/31/1919</td>\n",
       "      <td>0.000000</td>\n",
       "      <td>0.135874</td>\n",
       "      <td>0.000000</td>\n",
       "      <td>0.0</td>\n",
       "    </tr>\n",
       "    <tr>\n",
       "      <th>3</th>\n",
       "      <td>6/30/1919</td>\n",
       "      <td>0.060691</td>\n",
       "      <td>0.014028</td>\n",
       "      <td>0.010187</td>\n",
       "      <td>0.0</td>\n",
       "    </tr>\n",
       "    <tr>\n",
       "      <th>4</th>\n",
       "      <td>7/31/1919</td>\n",
       "      <td>0.066291</td>\n",
       "      <td>0.001683</td>\n",
       "      <td>0.001577</td>\n",
       "      <td>0.0</td>\n",
       "    </tr>\n",
       "  </tbody>\n",
       "</table>\n",
       "</div>"
      ],
      "text/plain": [
       "        date      SPY       DIA       IEF   GLD \n",
       "0  3/31/1919  0.011161  0.047636  0.001583   0.0\n",
       "1  4/30/1919  0.057728  0.045357  0.004722   0.0\n",
       "2  5/31/1919  0.000000  0.135874  0.000000   0.0\n",
       "3  6/30/1919  0.060691  0.014028  0.010187   0.0\n",
       "4  7/31/1919  0.066291  0.001683  0.001577   0.0"
      ]
     },
     "execution_count": 6,
     "metadata": {},
     "output_type": "execute_result"
    }
   ],
   "source": [
    "returns.head()"
   ]
  },
  {
   "cell_type": "code",
   "execution_count": 7,
   "metadata": {},
   "outputs": [],
   "source": [
    "returns.index=pd.to_datetime(returns.date)"
   ]
  },
  {
   "cell_type": "code",
   "execution_count": 8,
   "metadata": {},
   "outputs": [],
   "source": [
    "returns.index.name='Date'"
   ]
  },
  {
   "cell_type": "code",
   "execution_count": 9,
   "metadata": {},
   "outputs": [
    {
     "data": {
      "text/plain": [
       "DatetimeIndex(['1919-03-31', '1919-04-30', '1919-05-31', '1919-06-30',\n",
       "               '1919-07-31', '1919-08-31', '1919-09-30', '1919-10-31',\n",
       "               '1919-11-30', '1919-12-31',\n",
       "               ...\n",
       "               '2017-12-31', '2018-01-31', '2018-02-28', '2018-03-31',\n",
       "               '2018-04-30', '2018-05-31', '2018-06-30', '2018-07-31',\n",
       "               '2018-08-31', '2018-09-30'],\n",
       "              dtype='datetime64[ns]', name='Date', length=1195, freq=None)"
      ]
     },
     "execution_count": 9,
     "metadata": {},
     "output_type": "execute_result"
    }
   ],
   "source": [
    "returns.index"
   ]
  },
  {
   "cell_type": "code",
   "execution_count": 10,
   "metadata": {},
   "outputs": [],
   "source": [
    "label=returns.iloc[:,1]"
   ]
  },
  {
   "cell_type": "code",
   "execution_count": 11,
   "metadata": {},
   "outputs": [
    {
     "data": {
      "text/plain": [
       "Date\n",
       "1919-03-31    0.011161\n",
       "1919-04-30    0.057728\n",
       "1919-05-31    0.000000\n",
       "1919-06-30    0.060691\n",
       "1919-07-31    0.066291\n",
       "Name: SPY , dtype: float64"
      ]
     },
     "execution_count": 11,
     "metadata": {},
     "output_type": "execute_result"
    }
   ],
   "source": [
    "label.head()"
   ]
  },
  {
   "cell_type": "code",
   "execution_count": 12,
   "metadata": {},
   "outputs": [],
   "source": [
    "features.index=pd.to_datetime(features.date)"
   ]
  },
  {
   "cell_type": "code",
   "execution_count": 13,
   "metadata": {},
   "outputs": [
    {
     "data": {
      "text/plain": [
       "DatetimeIndex(['1919-03-31', '1919-04-30', '1919-05-31', '1919-06-30',\n",
       "               '1919-07-31', '1919-08-31', '1919-09-30', '1919-10-31',\n",
       "               '1919-11-30', '1919-12-31',\n",
       "               ...\n",
       "               '2017-12-31', '2018-01-31', '2018-02-28', '2018-03-31',\n",
       "               '2018-04-30', '2018-05-31', '2018-06-30', '2018-07-31',\n",
       "               '2018-08-31', '2018-09-30'],\n",
       "              dtype='datetime64[ns]', name='date', length=1195, freq=None)"
      ]
     },
     "execution_count": 13,
     "metadata": {},
     "output_type": "execute_result"
    }
   ],
   "source": [
    "features.index"
   ]
  },
  {
   "cell_type": "code",
   "execution_count": null,
   "metadata": {},
   "outputs": [],
   "source": []
  },
  {
   "cell_type": "code",
   "execution_count": 14,
   "metadata": {},
   "outputs": [],
   "source": [
    "d=features.dropna()"
   ]
  },
  {
   "cell_type": "code",
   "execution_count": 15,
   "metadata": {},
   "outputs": [],
   "source": [
    "data=features.copy()"
   ]
  },
  {
   "cell_type": "code",
   "execution_count": 16,
   "metadata": {},
   "outputs": [
    {
     "data": {
      "text/plain": [
       "(1195,)"
      ]
     },
     "execution_count": 16,
     "metadata": {},
     "output_type": "execute_result"
    }
   ],
   "source": [
    "label.shape"
   ]
  },
  {
   "cell_type": "code",
   "execution_count": 17,
   "metadata": {},
   "outputs": [],
   "source": [
    "data['label']=label[:]"
   ]
  },
  {
   "cell_type": "code",
   "execution_count": 18,
   "metadata": {},
   "outputs": [
    {
     "data": {
      "text/plain": [
       "(1195, 30)"
      ]
     },
     "execution_count": 18,
     "metadata": {},
     "output_type": "execute_result"
    }
   ],
   "source": [
    "data.shape"
   ]
  },
  {
   "cell_type": "code",
   "execution_count": 19,
   "metadata": {},
   "outputs": [],
   "source": [
    "d=data.dropna()"
   ]
  },
  {
   "cell_type": "code",
   "execution_count": 20,
   "metadata": {},
   "outputs": [
    {
     "data": {
      "text/plain": [
       "(385, 30)"
      ]
     },
     "execution_count": 20,
     "metadata": {},
     "output_type": "execute_result"
    }
   ],
   "source": [
    "d.shape"
   ]
  },
  {
   "cell_type": "code",
   "execution_count": 21,
   "metadata": {},
   "outputs": [
    {
     "data": {
      "text/plain": [
       "(1195, 29)"
      ]
     },
     "execution_count": 21,
     "metadata": {},
     "output_type": "execute_result"
    }
   ],
   "source": [
    "features.shape"
   ]
  },
  {
   "cell_type": "code",
   "execution_count": 22,
   "metadata": {},
   "outputs": [
    {
     "data": {
      "text/html": [
       "<div>\n",
       "<style scoped>\n",
       "    .dataframe tbody tr th:only-of-type {\n",
       "        vertical-align: middle;\n",
       "    }\n",
       "\n",
       "    .dataframe tbody tr th {\n",
       "        vertical-align: top;\n",
       "    }\n",
       "\n",
       "    .dataframe thead th {\n",
       "        text-align: right;\n",
       "    }\n",
       "</style>\n",
       "<table border=\"1\" class=\"dataframe\">\n",
       "  <thead>\n",
       "    <tr style=\"text-align: right;\">\n",
       "      <th></th>\n",
       "      <th>date</th>\n",
       "      <th>GDP</th>\n",
       "      <th>IP</th>\n",
       "      <th>TY10</th>\n",
       "      <th>UR</th>\n",
       "      <th>NFP</th>\n",
       "      <th>AIC4W</th>\n",
       "      <th>FFRATE</th>\n",
       "      <th>CBYAAA</th>\n",
       "      <th>M1</th>\n",
       "      <th>...</th>\n",
       "      <th>CU</th>\n",
       "      <th>UNEMPLOY</th>\n",
       "      <th>MICH</th>\n",
       "      <th>TWDI</th>\n",
       "      <th>WTI</th>\n",
       "      <th>TB6M</th>\n",
       "      <th>TOTBKCR</th>\n",
       "      <th>CFNAI</th>\n",
       "      <th>FGRECPT</th>\n",
       "      <th>label</th>\n",
       "    </tr>\n",
       "    <tr>\n",
       "      <th>date</th>\n",
       "      <th></th>\n",
       "      <th></th>\n",
       "      <th></th>\n",
       "      <th></th>\n",
       "      <th></th>\n",
       "      <th></th>\n",
       "      <th></th>\n",
       "      <th></th>\n",
       "      <th></th>\n",
       "      <th></th>\n",
       "      <th></th>\n",
       "      <th></th>\n",
       "      <th></th>\n",
       "      <th></th>\n",
       "      <th></th>\n",
       "      <th></th>\n",
       "      <th></th>\n",
       "      <th></th>\n",
       "      <th></th>\n",
       "      <th></th>\n",
       "      <th></th>\n",
       "    </tr>\n",
       "  </thead>\n",
       "  <tbody>\n",
       "    <tr>\n",
       "      <th>1986-09-30</th>\n",
       "      <td>9/30/1986</td>\n",
       "      <td>1.9</td>\n",
       "      <td>124.8</td>\n",
       "      <td>7.04</td>\n",
       "      <td>6.8</td>\n",
       "      <td>100324.0</td>\n",
       "      <td>386500.0</td>\n",
       "      <td>6.92</td>\n",
       "      <td>8.88</td>\n",
       "      <td>631.3</td>\n",
       "      <td>...</td>\n",
       "      <td>79.1</td>\n",
       "      <td>8027.0</td>\n",
       "      <td>2.8</td>\n",
       "      <td>108.3821</td>\n",
       "      <td>11.58</td>\n",
       "      <td>6.10</td>\n",
       "      <td>1935.4</td>\n",
       "      <td>0.53</td>\n",
       "      <td>805.9</td>\n",
       "      <td>-0.085439</td>\n",
       "    </tr>\n",
       "    <tr>\n",
       "      <th>1986-10-31</th>\n",
       "      <td>10/31/1986</td>\n",
       "      <td>1.9</td>\n",
       "      <td>125.3</td>\n",
       "      <td>7.84</td>\n",
       "      <td>7.0</td>\n",
       "      <td>100368.0</td>\n",
       "      <td>390250.0</td>\n",
       "      <td>6.56</td>\n",
       "      <td>8.72</td>\n",
       "      <td>639.1</td>\n",
       "      <td>...</td>\n",
       "      <td>78.9</td>\n",
       "      <td>8329.0</td>\n",
       "      <td>2.3</td>\n",
       "      <td>106.6678</td>\n",
       "      <td>15.09</td>\n",
       "      <td>6.52</td>\n",
       "      <td>1943.3</td>\n",
       "      <td>-0.17</td>\n",
       "      <td>805.9</td>\n",
       "      <td>0.054729</td>\n",
       "    </tr>\n",
       "    <tr>\n",
       "      <th>1986-11-30</th>\n",
       "      <td>11/30/1986</td>\n",
       "      <td>4.1</td>\n",
       "      <td>125.2</td>\n",
       "      <td>7.60</td>\n",
       "      <td>7.0</td>\n",
       "      <td>100746.0</td>\n",
       "      <td>379500.0</td>\n",
       "      <td>6.17</td>\n",
       "      <td>8.89</td>\n",
       "      <td>646.8</td>\n",
       "      <td>...</td>\n",
       "      <td>78.4</td>\n",
       "      <td>8242.0</td>\n",
       "      <td>2.4</td>\n",
       "      <td>107.6583</td>\n",
       "      <td>14.91</td>\n",
       "      <td>5.85</td>\n",
       "      <td>1958.8</td>\n",
       "      <td>-0.23</td>\n",
       "      <td>826.1</td>\n",
       "      <td>0.021477</td>\n",
       "    </tr>\n",
       "    <tr>\n",
       "      <th>1986-12-31</th>\n",
       "      <td>12/31/1986</td>\n",
       "      <td>4.1</td>\n",
       "      <td>125.9</td>\n",
       "      <td>7.35</td>\n",
       "      <td>7.0</td>\n",
       "      <td>101069.0</td>\n",
       "      <td>369500.0</td>\n",
       "      <td>5.89</td>\n",
       "      <td>8.86</td>\n",
       "      <td>658.5</td>\n",
       "      <td>...</td>\n",
       "      <td>78.7</td>\n",
       "      <td>8283.0</td>\n",
       "      <td>2.7</td>\n",
       "      <td>105.7827</td>\n",
       "      <td>14.85</td>\n",
       "      <td>5.77</td>\n",
       "      <td>1962.7</td>\n",
       "      <td>0.52</td>\n",
       "      <td>826.1</td>\n",
       "      <td>-0.028288</td>\n",
       "    </tr>\n",
       "    <tr>\n",
       "      <th>1987-01-31</th>\n",
       "      <td>1/31/1987</td>\n",
       "      <td>4.1</td>\n",
       "      <td>126.6</td>\n",
       "      <td>7.07</td>\n",
       "      <td>6.7</td>\n",
       "      <td>101334.0</td>\n",
       "      <td>387000.0</td>\n",
       "      <td>5.85</td>\n",
       "      <td>8.68</td>\n",
       "      <td>665.7</td>\n",
       "      <td>...</td>\n",
       "      <td>78.7</td>\n",
       "      <td>7949.0</td>\n",
       "      <td>2.9</td>\n",
       "      <td>104.4536</td>\n",
       "      <td>15.21</td>\n",
       "      <td>5.25</td>\n",
       "      <td>1972.4</td>\n",
       "      <td>0.03</td>\n",
       "      <td>826.1</td>\n",
       "      <td>0.131767</td>\n",
       "    </tr>\n",
       "  </tbody>\n",
       "</table>\n",
       "<p>5 rows × 30 columns</p>\n",
       "</div>"
      ],
      "text/plain": [
       "                  date  GDP     IP  TY10   UR       NFP     AIC4W  FFRATE  \\\n",
       "date                                                                        \n",
       "1986-09-30   9/30/1986  1.9  124.8  7.04  6.8  100324.0  386500.0    6.92   \n",
       "1986-10-31  10/31/1986  1.9  125.3  7.84  7.0  100368.0  390250.0    6.56   \n",
       "1986-11-30  11/30/1986  4.1  125.2  7.60  7.0  100746.0  379500.0    6.17   \n",
       "1986-12-31  12/31/1986  4.1  125.9  7.35  7.0  101069.0  369500.0    5.89   \n",
       "1987-01-31   1/31/1987  4.1  126.6  7.07  6.7  101334.0  387000.0    5.85   \n",
       "\n",
       "            CBYAAA     M1    ...       CU  UNEMPLOY  MICH      TWDI    WTI  \\\n",
       "date                         ...                                             \n",
       "1986-09-30    8.88  631.3    ...     79.1    8027.0   2.8  108.3821  11.58   \n",
       "1986-10-31    8.72  639.1    ...     78.9    8329.0   2.3  106.6678  15.09   \n",
       "1986-11-30    8.89  646.8    ...     78.4    8242.0   2.4  107.6583  14.91   \n",
       "1986-12-31    8.86  658.5    ...     78.7    8283.0   2.7  105.7827  14.85   \n",
       "1987-01-31    8.68  665.7    ...     78.7    7949.0   2.9  104.4536  15.21   \n",
       "\n",
       "            TB6M  TOTBKCR  CFNAI  FGRECPT     label  \n",
       "date                                                 \n",
       "1986-09-30  6.10   1935.4   0.53    805.9 -0.085439  \n",
       "1986-10-31  6.52   1943.3  -0.17    805.9  0.054729  \n",
       "1986-11-30  5.85   1958.8  -0.23    826.1  0.021477  \n",
       "1986-12-31  5.77   1962.7   0.52    826.1 -0.028288  \n",
       "1987-01-31  5.25   1972.4   0.03    826.1  0.131767  \n",
       "\n",
       "[5 rows x 30 columns]"
      ]
     },
     "execution_count": 22,
     "metadata": {},
     "output_type": "execute_result"
    }
   ],
   "source": [
    "d.head()"
   ]
  },
  {
   "cell_type": "code",
   "execution_count": 23,
   "metadata": {},
   "outputs": [],
   "source": [
    "from sklearn.preprocessing import scale\n"
   ]
  },
  {
   "cell_type": "code",
   "execution_count": 24,
   "metadata": {},
   "outputs": [],
   "source": [
    "d.index=pd.to_datetime(d.date)\n",
    "d=d.iloc[:,1:]"
   ]
  },
  {
   "cell_type": "code",
   "execution_count": 25,
   "metadata": {},
   "outputs": [
    {
     "data": {
      "text/html": [
       "<div>\n",
       "<style scoped>\n",
       "    .dataframe tbody tr th:only-of-type {\n",
       "        vertical-align: middle;\n",
       "    }\n",
       "\n",
       "    .dataframe tbody tr th {\n",
       "        vertical-align: top;\n",
       "    }\n",
       "\n",
       "    .dataframe thead th {\n",
       "        text-align: right;\n",
       "    }\n",
       "</style>\n",
       "<table border=\"1\" class=\"dataframe\">\n",
       "  <thead>\n",
       "    <tr style=\"text-align: right;\">\n",
       "      <th></th>\n",
       "      <th>GDP</th>\n",
       "      <th>IP</th>\n",
       "      <th>TY10</th>\n",
       "      <th>UR</th>\n",
       "      <th>NFP</th>\n",
       "      <th>AIC4W</th>\n",
       "      <th>FFRATE</th>\n",
       "      <th>CBYAAA</th>\n",
       "      <th>M1</th>\n",
       "      <th>PSRATE</th>\n",
       "      <th>...</th>\n",
       "      <th>CU</th>\n",
       "      <th>UNEMPLOY</th>\n",
       "      <th>MICH</th>\n",
       "      <th>TWDI</th>\n",
       "      <th>WTI</th>\n",
       "      <th>TB6M</th>\n",
       "      <th>TOTBKCR</th>\n",
       "      <th>CFNAI</th>\n",
       "      <th>FGRECPT</th>\n",
       "      <th>label</th>\n",
       "    </tr>\n",
       "    <tr>\n",
       "      <th>date</th>\n",
       "      <th></th>\n",
       "      <th></th>\n",
       "      <th></th>\n",
       "      <th></th>\n",
       "      <th></th>\n",
       "      <th></th>\n",
       "      <th></th>\n",
       "      <th></th>\n",
       "      <th></th>\n",
       "      <th></th>\n",
       "      <th></th>\n",
       "      <th></th>\n",
       "      <th></th>\n",
       "      <th></th>\n",
       "      <th></th>\n",
       "      <th></th>\n",
       "      <th></th>\n",
       "      <th></th>\n",
       "      <th></th>\n",
       "      <th></th>\n",
       "      <th></th>\n",
       "    </tr>\n",
       "  </thead>\n",
       "  <tbody>\n",
       "    <tr>\n",
       "      <th>1986-09-30</th>\n",
       "      <td>1.9</td>\n",
       "      <td>124.8</td>\n",
       "      <td>7.04</td>\n",
       "      <td>6.8</td>\n",
       "      <td>100324.0</td>\n",
       "      <td>386500.0</td>\n",
       "      <td>6.92</td>\n",
       "      <td>8.88</td>\n",
       "      <td>631.3</td>\n",
       "      <td>6.8</td>\n",
       "      <td>...</td>\n",
       "      <td>79.1</td>\n",
       "      <td>8027.0</td>\n",
       "      <td>2.8</td>\n",
       "      <td>108.3821</td>\n",
       "      <td>11.58</td>\n",
       "      <td>6.10</td>\n",
       "      <td>1935.4</td>\n",
       "      <td>0.53</td>\n",
       "      <td>805.9</td>\n",
       "      <td>-0.085439</td>\n",
       "    </tr>\n",
       "    <tr>\n",
       "      <th>1986-10-31</th>\n",
       "      <td>1.9</td>\n",
       "      <td>125.3</td>\n",
       "      <td>7.84</td>\n",
       "      <td>7.0</td>\n",
       "      <td>100368.0</td>\n",
       "      <td>390250.0</td>\n",
       "      <td>6.56</td>\n",
       "      <td>8.72</td>\n",
       "      <td>639.1</td>\n",
       "      <td>6.6</td>\n",
       "      <td>...</td>\n",
       "      <td>78.9</td>\n",
       "      <td>8329.0</td>\n",
       "      <td>2.3</td>\n",
       "      <td>106.6678</td>\n",
       "      <td>15.09</td>\n",
       "      <td>6.52</td>\n",
       "      <td>1943.3</td>\n",
       "      <td>-0.17</td>\n",
       "      <td>805.9</td>\n",
       "      <td>0.054729</td>\n",
       "    </tr>\n",
       "    <tr>\n",
       "      <th>1986-11-30</th>\n",
       "      <td>4.1</td>\n",
       "      <td>125.2</td>\n",
       "      <td>7.60</td>\n",
       "      <td>7.0</td>\n",
       "      <td>100746.0</td>\n",
       "      <td>379500.0</td>\n",
       "      <td>6.17</td>\n",
       "      <td>8.89</td>\n",
       "      <td>646.8</td>\n",
       "      <td>6.6</td>\n",
       "      <td>...</td>\n",
       "      <td>78.4</td>\n",
       "      <td>8242.0</td>\n",
       "      <td>2.4</td>\n",
       "      <td>107.6583</td>\n",
       "      <td>14.91</td>\n",
       "      <td>5.85</td>\n",
       "      <td>1958.8</td>\n",
       "      <td>-0.23</td>\n",
       "      <td>826.1</td>\n",
       "      <td>0.021477</td>\n",
       "    </tr>\n",
       "    <tr>\n",
       "      <th>1986-12-31</th>\n",
       "      <td>4.1</td>\n",
       "      <td>125.9</td>\n",
       "      <td>7.35</td>\n",
       "      <td>7.0</td>\n",
       "      <td>101069.0</td>\n",
       "      <td>369500.0</td>\n",
       "      <td>5.89</td>\n",
       "      <td>8.86</td>\n",
       "      <td>658.5</td>\n",
       "      <td>4.4</td>\n",
       "      <td>...</td>\n",
       "      <td>78.7</td>\n",
       "      <td>8283.0</td>\n",
       "      <td>2.7</td>\n",
       "      <td>105.7827</td>\n",
       "      <td>14.85</td>\n",
       "      <td>5.77</td>\n",
       "      <td>1962.7</td>\n",
       "      <td>0.52</td>\n",
       "      <td>826.1</td>\n",
       "      <td>-0.028288</td>\n",
       "    </tr>\n",
       "    <tr>\n",
       "      <th>1987-01-31</th>\n",
       "      <td>4.1</td>\n",
       "      <td>126.6</td>\n",
       "      <td>7.07</td>\n",
       "      <td>6.7</td>\n",
       "      <td>101334.0</td>\n",
       "      <td>387000.0</td>\n",
       "      <td>5.85</td>\n",
       "      <td>8.68</td>\n",
       "      <td>665.7</td>\n",
       "      <td>5.4</td>\n",
       "      <td>...</td>\n",
       "      <td>78.7</td>\n",
       "      <td>7949.0</td>\n",
       "      <td>2.9</td>\n",
       "      <td>104.4536</td>\n",
       "      <td>15.21</td>\n",
       "      <td>5.25</td>\n",
       "      <td>1972.4</td>\n",
       "      <td>0.03</td>\n",
       "      <td>826.1</td>\n",
       "      <td>0.131767</td>\n",
       "    </tr>\n",
       "  </tbody>\n",
       "</table>\n",
       "<p>5 rows × 29 columns</p>\n",
       "</div>"
      ],
      "text/plain": [
       "            GDP     IP  TY10   UR       NFP     AIC4W  FFRATE  CBYAAA     M1  \\\n",
       "date                                                                           \n",
       "1986-09-30  1.9  124.8  7.04  6.8  100324.0  386500.0    6.92    8.88  631.3   \n",
       "1986-10-31  1.9  125.3  7.84  7.0  100368.0  390250.0    6.56    8.72  639.1   \n",
       "1986-11-30  4.1  125.2  7.60  7.0  100746.0  379500.0    6.17    8.89  646.8   \n",
       "1986-12-31  4.1  125.9  7.35  7.0  101069.0  369500.0    5.89    8.86  658.5   \n",
       "1987-01-31  4.1  126.6  7.07  6.7  101334.0  387000.0    5.85    8.68  665.7   \n",
       "\n",
       "            PSRATE    ...       CU  UNEMPLOY  MICH      TWDI    WTI  TB6M  \\\n",
       "date                  ...                                                   \n",
       "1986-09-30     6.8    ...     79.1    8027.0   2.8  108.3821  11.58  6.10   \n",
       "1986-10-31     6.6    ...     78.9    8329.0   2.3  106.6678  15.09  6.52   \n",
       "1986-11-30     6.6    ...     78.4    8242.0   2.4  107.6583  14.91  5.85   \n",
       "1986-12-31     4.4    ...     78.7    8283.0   2.7  105.7827  14.85  5.77   \n",
       "1987-01-31     5.4    ...     78.7    7949.0   2.9  104.4536  15.21  5.25   \n",
       "\n",
       "            TOTBKCR  CFNAI  FGRECPT     label  \n",
       "date                                           \n",
       "1986-09-30   1935.4   0.53    805.9 -0.085439  \n",
       "1986-10-31   1943.3  -0.17    805.9  0.054729  \n",
       "1986-11-30   1958.8  -0.23    826.1  0.021477  \n",
       "1986-12-31   1962.7   0.52    826.1 -0.028288  \n",
       "1987-01-31   1972.4   0.03    826.1  0.131767  \n",
       "\n",
       "[5 rows x 29 columns]"
      ]
     },
     "execution_count": 25,
     "metadata": {},
     "output_type": "execute_result"
    }
   ],
   "source": [
    "d.head()"
   ]
  },
  {
   "cell_type": "code",
   "execution_count": 26,
   "metadata": {},
   "outputs": [
    {
     "data": {
      "text/plain": [
       "DatetimeIndex(['1986-09-30', '1986-10-31', '1986-11-30', '1986-12-31',\n",
       "               '1987-01-31', '1987-02-28', '1987-03-31', '1987-04-30',\n",
       "               '1987-05-31', '1987-06-30',\n",
       "               ...\n",
       "               '2017-12-31', '2018-01-31', '2018-02-28', '2018-03-31',\n",
       "               '2018-04-30', '2018-05-31', '2018-06-30', '2018-07-31',\n",
       "               '2018-08-31', '2018-09-30'],\n",
       "              dtype='datetime64[ns]', name='date', length=385, freq=None)"
      ]
     },
     "execution_count": 26,
     "metadata": {},
     "output_type": "execute_result"
    }
   ],
   "source": [
    "d.index"
   ]
  },
  {
   "cell_type": "code",
   "execution_count": null,
   "metadata": {},
   "outputs": [],
   "source": []
  },
  {
   "cell_type": "code",
   "execution_count": 27,
   "metadata": {},
   "outputs": [],
   "source": [
    "import xgboost as xgb"
   ]
  },
  {
   "cell_type": "code",
   "execution_count": 28,
   "metadata": {},
   "outputs": [],
   "source": [
    "from xgboost import XGBRegressor"
   ]
  },
  {
   "cell_type": "code",
   "execution_count": 29,
   "metadata": {},
   "outputs": [],
   "source": [
    "model=XGBRegressor()"
   ]
  },
  {
   "cell_type": "code",
   "execution_count": 30,
   "metadata": {},
   "outputs": [],
   "source": [
    "d=scale(d)"
   ]
  },
  {
   "cell_type": "code",
   "execution_count": 31,
   "metadata": {},
   "outputs": [
    {
     "data": {
      "text/plain": [
       "XGBRegressor(base_score=0.5, booster='gbtree', colsample_bylevel=1,\n",
       "       colsample_bytree=1, gamma=0, learning_rate=0.1, max_delta_step=0,\n",
       "       max_depth=3, min_child_weight=1, missing=None, n_estimators=100,\n",
       "       n_jobs=1, nthread=None, objective='reg:linear', random_state=0,\n",
       "       reg_alpha=0, reg_lambda=1, scale_pos_weight=1, seed=None,\n",
       "       silent=True, subsample=1)"
      ]
     },
     "execution_count": 31,
     "metadata": {},
     "output_type": "execute_result"
    }
   ],
   "source": [
    "model.fit(d[:,:-1],d[:,-1])"
   ]
  },
  {
   "cell_type": "code",
   "execution_count": 32,
   "metadata": {},
   "outputs": [],
   "source": [
    "xgb_params = {\"objective\": \"reg:linear\", \"eta\": 0.01, \"max_depth\": 8, \"seed\": 42, \"silent\": 1}\n",
    "num_rounds = 1000\n",
    "dtrain = xgb.DMatrix(d[:,:-1], label=d[:,-1])\n",
    "m=xgb.train(xgb_params, dtrain, num_rounds)"
   ]
  },
  {
   "cell_type": "code",
   "execution_count": 33,
   "metadata": {},
   "outputs": [
    {
     "data": {
      "text/plain": [
       "array([0.07885906, 0.16778524, 0.02181208, 0.00503356, 0.02516779,\n",
       "       0.02852349, 0.01845638, 0.02181208, 0.03020134, 0.02348993,\n",
       "       0.06040268, 0.01006711, 0.        , 0.00838926, 0.00503356,\n",
       "       0.02181208, 0.03187919, 0.06543624, 0.0033557 , 0.04865772,\n",
       "       0.04697987, 0.04026845, 0.06208054, 0.0738255 , 0.06208054,\n",
       "       0.        , 0.03691275, 0.00167785], dtype=float32)"
      ]
     },
     "execution_count": 33,
     "metadata": {},
     "output_type": "execute_result"
    }
   ],
   "source": [
    "model.feature_importances_"
   ]
  },
  {
   "cell_type": "code",
   "execution_count": 34,
   "metadata": {},
   "outputs": [],
   "source": [
    "import matplotlib.pyplot as plt\n",
    "import operator\n",
    "%matplotlib inline"
   ]
  },
  {
   "cell_type": "code",
   "execution_count": 35,
   "metadata": {},
   "outputs": [],
   "source": [
    "data=data.iloc[:,1:]"
   ]
  },
  {
   "cell_type": "code",
   "execution_count": 36,
   "metadata": {},
   "outputs": [],
   "source": [
    "columns=data.columns"
   ]
  },
  {
   "cell_type": "code",
   "execution_count": 37,
   "metadata": {},
   "outputs": [
    {
     "data": {
      "text/plain": [
       "{'f23': 1412,\n",
       " 'f22': 1055,\n",
       " 'f19': 1338,\n",
       " 'f16': 1276,\n",
       " 'f17': 1551,\n",
       " 'f1': 4905,\n",
       " 'f0': 5723,\n",
       " 'f26': 1543,\n",
       " 'f24': 913,\n",
       " 'f10': 1997,\n",
       " 'f11': 525,\n",
       " 'f15': 745,\n",
       " 'f7': 825,\n",
       " 'f18': 332,\n",
       " 'f5': 2071,\n",
       " 'f4': 1281,\n",
       " 'f8': 1120,\n",
       " 'f20': 1277,\n",
       " 'f13': 125,\n",
       " 'f21': 964,\n",
       " 'f2': 3068,\n",
       " 'f6': 819,\n",
       " 'f25': 61,\n",
       " 'f27': 233,\n",
       " 'f3': 970,\n",
       " 'f9': 1371,\n",
       " 'f14': 143,\n",
       " 'f12': 90}"
      ]
     },
     "execution_count": 37,
     "metadata": {},
     "output_type": "execute_result"
    }
   ],
   "source": [
    "importance = m.get_fscore()\n",
    "importance"
   ]
  },
  {
   "cell_type": "code",
   "execution_count": 38,
   "metadata": {},
   "outputs": [],
   "source": [
    "imp={}\n",
    "for i,j in zip(importance.keys(),importance.values()):\n",
    "    imp[columns[int(i[1:])]]=j"
   ]
  },
  {
   "cell_type": "code",
   "execution_count": 39,
   "metadata": {},
   "outputs": [
    {
     "data": {
      "text/plain": [
       "Text(0.5, 0, 'relative importance')"
      ]
     },
     "execution_count": 39,
     "metadata": {},
     "output_type": "execute_result"
    },
    {
     "data": {
      "text/plain": [
       "<Figure size 432x288 with 0 Axes>"
      ]
     },
     "metadata": {},
     "output_type": "display_data"
    },
    {
     "data": {
      "image/png": "[encoded data removed]",
      "text/plain": [
       "<Figure size 432x288 with 1 Axes>"
      ]
     },
     "metadata": {
      "needs_background": "light"
     },
     "output_type": "display_data"
    },
    {
     "data": {
      "image/png": "[encoded data removed]",
      "text/plain": [
       "<Figure size 1152x720 with 1 Axes>"
      ]
     },
     "metadata": {
      "needs_background": "light"
     },
     "output_type": "display_data"
    }
   ],
   "source": [
    "imp = sorted(imp.items(), key=operator.itemgetter(1))\n",
    "\n",
    "df = pd.DataFrame(imp, columns=['feature', 'fscore'])\n",
    "df['fscore'] = df['fscore'] / df['fscore'].sum()\n",
    "\n",
    "plt.figure()\n",
    "df.plot()\n",
    "df.plot(kind='barh', x='feature', y='fscore', legend=False, figsize=(16, 10))\n",
    "plt.title('XGBoost Feature Importance')\n",
    "plt.xlabel('relative importance')"
   ]
  },
  {
   "cell_type": "markdown",
   "metadata": {},
   "source": [
    "在将数据标准之后使用xgboost内置函数求得各个变量重要性"
   ]
  },
  {
   "cell_type": "code",
   "execution_count": null,
   "metadata": {},
   "outputs": [],
   "source": []
  },
  {
   "cell_type": "code",
   "execution_count": 40,
   "metadata": {},
   "outputs": [],
   "source": [
    "from statsmodels.tsa.stattools import adfuller\n",
    "\n",
    "from statsmodels.graphics.tsaplots import plot_acf, plot_pacf\n"
   ]
  },
  {
   "cell_type": "code",
   "execution_count": 41,
   "metadata": {},
   "outputs": [
    {
     "data": {
      "text/html": [
       "<div>\n",
       "<style scoped>\n",
       "    .dataframe tbody tr th:only-of-type {\n",
       "        vertical-align: middle;\n",
       "    }\n",
       "\n",
       "    .dataframe tbody tr th {\n",
       "        vertical-align: top;\n",
       "    }\n",
       "\n",
       "    .dataframe thead th {\n",
       "        text-align: right;\n",
       "    }\n",
       "</style>\n",
       "<table border=\"1\" class=\"dataframe\">\n",
       "  <thead>\n",
       "    <tr style=\"text-align: right;\">\n",
       "      <th></th>\n",
       "      <th>GDP</th>\n",
       "      <th>IP</th>\n",
       "      <th>TY10</th>\n",
       "      <th>UR</th>\n",
       "      <th>NFP</th>\n",
       "      <th>AIC4W</th>\n",
       "      <th>FFRATE</th>\n",
       "      <th>CBYAAA</th>\n",
       "      <th>M1</th>\n",
       "      <th>PSRATE</th>\n",
       "      <th>...</th>\n",
       "      <th>CU</th>\n",
       "      <th>UNEMPLOY</th>\n",
       "      <th>MICH</th>\n",
       "      <th>TWDI</th>\n",
       "      <th>WTI</th>\n",
       "      <th>TB6M</th>\n",
       "      <th>TOTBKCR</th>\n",
       "      <th>CFNAI</th>\n",
       "      <th>FGRECPT</th>\n",
       "      <th>label</th>\n",
       "    </tr>\n",
       "    <tr>\n",
       "      <th>date</th>\n",
       "      <th></th>\n",
       "      <th></th>\n",
       "      <th></th>\n",
       "      <th></th>\n",
       "      <th></th>\n",
       "      <th></th>\n",
       "      <th></th>\n",
       "      <th></th>\n",
       "      <th></th>\n",
       "      <th></th>\n",
       "      <th></th>\n",
       "      <th></th>\n",
       "      <th></th>\n",
       "      <th></th>\n",
       "      <th></th>\n",
       "      <th></th>\n",
       "      <th></th>\n",
       "      <th></th>\n",
       "      <th></th>\n",
       "      <th></th>\n",
       "      <th></th>\n",
       "    </tr>\n",
       "  </thead>\n",
       "  <tbody>\n",
       "    <tr>\n",
       "      <th>1919-03-31</th>\n",
       "      <td>NaN</td>\n",
       "      <td>83.0</td>\n",
       "      <td>NaN</td>\n",
       "      <td>NaN</td>\n",
       "      <td>NaN</td>\n",
       "      <td>NaN</td>\n",
       "      <td>NaN</td>\n",
       "      <td>5.35</td>\n",
       "      <td>NaN</td>\n",
       "      <td>NaN</td>\n",
       "      <td>...</td>\n",
       "      <td>NaN</td>\n",
       "      <td>NaN</td>\n",
       "      <td>NaN</td>\n",
       "      <td>NaN</td>\n",
       "      <td>NaN</td>\n",
       "      <td>NaN</td>\n",
       "      <td>NaN</td>\n",
       "      <td>NaN</td>\n",
       "      <td>NaN</td>\n",
       "      <td>0.011161</td>\n",
       "    </tr>\n",
       "    <tr>\n",
       "      <th>1919-04-30</th>\n",
       "      <td>NaN</td>\n",
       "      <td>80.0</td>\n",
       "      <td>NaN</td>\n",
       "      <td>NaN</td>\n",
       "      <td>NaN</td>\n",
       "      <td>NaN</td>\n",
       "      <td>NaN</td>\n",
       "      <td>5.35</td>\n",
       "      <td>NaN</td>\n",
       "      <td>NaN</td>\n",
       "      <td>...</td>\n",
       "      <td>NaN</td>\n",
       "      <td>NaN</td>\n",
       "      <td>NaN</td>\n",
       "      <td>NaN</td>\n",
       "      <td>NaN</td>\n",
       "      <td>NaN</td>\n",
       "      <td>NaN</td>\n",
       "      <td>NaN</td>\n",
       "      <td>NaN</td>\n",
       "      <td>0.057728</td>\n",
       "    </tr>\n",
       "    <tr>\n",
       "      <th>1919-05-31</th>\n",
       "      <td>NaN</td>\n",
       "      <td>77.0</td>\n",
       "      <td>NaN</td>\n",
       "      <td>NaN</td>\n",
       "      <td>NaN</td>\n",
       "      <td>NaN</td>\n",
       "      <td>NaN</td>\n",
       "      <td>5.39</td>\n",
       "      <td>NaN</td>\n",
       "      <td>NaN</td>\n",
       "      <td>...</td>\n",
       "      <td>NaN</td>\n",
       "      <td>NaN</td>\n",
       "      <td>NaN</td>\n",
       "      <td>NaN</td>\n",
       "      <td>NaN</td>\n",
       "      <td>NaN</td>\n",
       "      <td>NaN</td>\n",
       "      <td>NaN</td>\n",
       "      <td>NaN</td>\n",
       "      <td>0.000000</td>\n",
       "    </tr>\n",
       "    <tr>\n",
       "      <th>1919-06-30</th>\n",
       "      <td>NaN</td>\n",
       "      <td>78.0</td>\n",
       "      <td>NaN</td>\n",
       "      <td>NaN</td>\n",
       "      <td>NaN</td>\n",
       "      <td>NaN</td>\n",
       "      <td>NaN</td>\n",
       "      <td>5.44</td>\n",
       "      <td>NaN</td>\n",
       "      <td>NaN</td>\n",
       "      <td>...</td>\n",
       "      <td>NaN</td>\n",
       "      <td>NaN</td>\n",
       "      <td>NaN</td>\n",
       "      <td>NaN</td>\n",
       "      <td>NaN</td>\n",
       "      <td>NaN</td>\n",
       "      <td>NaN</td>\n",
       "      <td>NaN</td>\n",
       "      <td>NaN</td>\n",
       "      <td>0.060691</td>\n",
       "    </tr>\n",
       "    <tr>\n",
       "      <th>1919-07-31</th>\n",
       "      <td>NaN</td>\n",
       "      <td>77.0</td>\n",
       "      <td>NaN</td>\n",
       "      <td>NaN</td>\n",
       "      <td>NaN</td>\n",
       "      <td>NaN</td>\n",
       "      <td>NaN</td>\n",
       "      <td>5.39</td>\n",
       "      <td>NaN</td>\n",
       "      <td>NaN</td>\n",
       "      <td>...</td>\n",
       "      <td>NaN</td>\n",
       "      <td>NaN</td>\n",
       "      <td>NaN</td>\n",
       "      <td>NaN</td>\n",
       "      <td>NaN</td>\n",
       "      <td>NaN</td>\n",
       "      <td>NaN</td>\n",
       "      <td>NaN</td>\n",
       "      <td>NaN</td>\n",
       "      <td>0.066291</td>\n",
       "    </tr>\n",
       "  </tbody>\n",
       "</table>\n",
       "<p>5 rows × 29 columns</p>\n",
       "</div>"
      ],
      "text/plain": [
       "            GDP    IP  TY10  UR  NFP  AIC4W  FFRATE  CBYAAA  M1  PSRATE  \\\n",
       "date                                                                      \n",
       "1919-03-31  NaN  83.0   NaN NaN  NaN    NaN     NaN    5.35 NaN     NaN   \n",
       "1919-04-30  NaN  80.0   NaN NaN  NaN    NaN     NaN    5.35 NaN     NaN   \n",
       "1919-05-31  NaN  77.0   NaN NaN  NaN    NaN     NaN    5.39 NaN     NaN   \n",
       "1919-06-30  NaN  78.0   NaN NaN  NaN    NaN     NaN    5.44 NaN     NaN   \n",
       "1919-07-31  NaN  77.0   NaN NaN  NaN    NaN     NaN    5.39 NaN     NaN   \n",
       "\n",
       "              ...     CU  UNEMPLOY  MICH  TWDI  WTI  TB6M  TOTBKCR  CFNAI  \\\n",
       "date          ...                                                           \n",
       "1919-03-31    ...    NaN       NaN   NaN   NaN  NaN   NaN      NaN    NaN   \n",
       "1919-04-30    ...    NaN       NaN   NaN   NaN  NaN   NaN      NaN    NaN   \n",
       "1919-05-31    ...    NaN       NaN   NaN   NaN  NaN   NaN      NaN    NaN   \n",
       "1919-06-30    ...    NaN       NaN   NaN   NaN  NaN   NaN      NaN    NaN   \n",
       "1919-07-31    ...    NaN       NaN   NaN   NaN  NaN   NaN      NaN    NaN   \n",
       "\n",
       "            FGRECPT     label  \n",
       "date                           \n",
       "1919-03-31      NaN  0.011161  \n",
       "1919-04-30      NaN  0.057728  \n",
       "1919-05-31      NaN  0.000000  \n",
       "1919-06-30      NaN  0.060691  \n",
       "1919-07-31      NaN  0.066291  \n",
       "\n",
       "[5 rows x 29 columns]"
      ]
     },
     "execution_count": 41,
     "metadata": {},
     "output_type": "execute_result"
    }
   ],
   "source": [
    "data.head()"
   ]
  },
  {
   "cell_type": "code",
   "execution_count": 42,
   "metadata": {},
   "outputs": [
    {
     "data": {
      "text/plain": [
       "(1195, 29)"
      ]
     },
     "execution_count": 42,
     "metadata": {},
     "output_type": "execute_result"
    }
   ],
   "source": [
    "data.shape"
   ]
  },
  {
   "cell_type": "code",
   "execution_count": 43,
   "metadata": {},
   "outputs": [
    {
     "data": {
      "text/plain": [
       "array([[-0.27255019,  0.58485711,  0.91176165, ...,  0.84494948,\n",
       "        -1.56652176, -2.16847713],\n",
       "       [-0.27255019,  0.61918447,  1.2777401 , ..., -0.09819948,\n",
       "        -1.56652176,  1.10924425],\n",
       "       [ 0.66130909,  0.612319  ,  1.16794656, ..., -0.17904082,\n",
       "        -1.54124582,  0.33166698],\n",
       "       ...,\n",
       "       [ 0.66130909, -0.58817768, -0.94557901, ...,  0.71021391,\n",
       "         1.77744036,  0.69574584],\n",
       "       [ 0.66130909, -0.56861794, -1.00047577, ...,  0.30600722,\n",
       "         1.76618131,  0.57585993],\n",
       "       [ 0.66130909, -0.55263512, -0.90440643, ...,  0.373375  ,\n",
       "         1.76618131, -0.11095382]])"
      ]
     },
     "execution_count": 43,
     "metadata": {},
     "output_type": "execute_result"
    }
   ],
   "source": [
    "d"
   ]
  },
  {
   "cell_type": "code",
   "execution_count": 44,
   "metadata": {},
   "outputs": [],
   "source": [
    "dftest = adfuller(d[:,0],autolag = 'AIC')"
   ]
  },
  {
   "cell_type": "code",
   "execution_count": 45,
   "metadata": {},
   "outputs": [
    {
     "data": {
      "text/plain": [
       "(-3.6379606343486808,\n",
       " 0.005075423207531378,\n",
       " 9,\n",
       " 375,\n",
       " {'1%': -3.447909006729481,\n",
       "  '5%': -2.8692783343881483,\n",
       "  '10%': -2.5708923751111112},\n",
       " 619.7533396984236)"
      ]
     },
     "execution_count": 45,
     "metadata": {},
     "output_type": "execute_result"
    }
   ],
   "source": [
    "dftest"
   ]
  },
  {
   "cell_type": "code",
   "execution_count": 46,
   "metadata": {},
   "outputs": [],
   "source": [
    "def testStationarity(ts):\n",
    "    dftest = adfuller(ts)\n",
    "    dfoutput = pd.Series(dftest[0:4], index=['Test Statistic','p-value','#Lags Used','Number of Observations Used'])\n",
    "    for key,value in dftest[4].items():\n",
    "        dfoutput['Critical Value (%s)'%key] = value\n",
    "    return dfoutput\n",
    "def draw_acf_pacf(ts, lags=31):\n",
    "    f = plt.figure(figsize=(20,5))\n",
    "    ax1 = f.add_subplot(121)\n",
    "    plot_acf(ts, lags=31, ax=ax1)\n",
    "\n",
    "    ax2 = f.add_subplot(122)\n",
    "    plot_pacf(ts, lags=31, ax=ax2)\n",
    "    plt.show()"
   ]
  },
  {
   "cell_type": "code",
   "execution_count": 47,
   "metadata": {},
   "outputs": [
    {
     "data": {
      "text/plain": [
       "Test Statistic                  -3.637961\n",
       "p-value                          0.005075\n",
       "#Lags Used                       9.000000\n",
       "Number of Observations Used    375.000000\n",
       "Critical Value (1%)             -3.447909\n",
       "Critical Value (5%)             -2.869278\n",
       "Critical Value (10%)            -2.570892\n",
       "dtype: float64"
      ]
     },
     "execution_count": 47,
     "metadata": {},
     "output_type": "execute_result"
    }
   ],
   "source": [
    "dfoutput=testStationarity(d[:,0])\n",
    "dfoutput"
   ]
  },
  {
   "cell_type": "code",
   "execution_count": 48,
   "metadata": {},
   "outputs": [
    {
     "data": {
      "image/png": "[encoded data removed]",
      "text/plain": [
       "<Figure size 1440x360 with 2 Axes>"
      ]
     },
     "metadata": {
      "needs_background": "light"
     },
     "output_type": "display_data"
    }
   ],
   "source": [
    "draw_acf_pacf(d[:,0])"
   ]
  },
  {
   "cell_type": "markdown",
   "metadata": {},
   "source": [
    "在此处检验其是否平稳，下面显示经过9阶差分后，平稳。-3.637<-3.4478"
   ]
  },
  {
   "cell_type": "code",
   "execution_count": 49,
   "metadata": {},
   "outputs": [],
   "source": [
    "from statsmodels.tsa.stattools import grangercausalitytests"
   ]
  },
  {
   "cell_type": "code",
   "execution_count": 50,
   "metadata": {},
   "outputs": [
    {
     "name": "stdout",
     "output_type": "stream",
     "text": [
      "\n",
      "Granger Causality\n",
      "number of lags (no zero) 1\n",
      "ssr based F test:         F=2.3333  , p=0.1275  , df_denom=381, df_num=1\n",
      "ssr based chi2 test:   chi2=2.3516  , p=0.1252  , df=1\n",
      "likelihood ratio test: chi2=2.3445  , p=0.1257  , df=1\n",
      "parameter F test:         F=2.3333  , p=0.1275  , df_denom=381, df_num=1\n",
      "\n",
      "Granger Causality\n",
      "number of lags (no zero) 2\n",
      "ssr based F test:         F=1.4537  , p=0.2350  , df_denom=378, df_num=2\n",
      "ssr based chi2 test:   chi2=2.9459  , p=0.2292  , df=2\n",
      "likelihood ratio test: chi2=2.9346  , p=0.2305  , df=2\n",
      "parameter F test:         F=1.4537  , p=0.2350  , df_denom=378, df_num=2\n",
      "\n",
      "Granger Causality\n",
      "number of lags (no zero) 3\n",
      "ssr based F test:         F=1.2918  , p=0.2769  , df_denom=375, df_num=3\n",
      "ssr based chi2 test:   chi2=3.9479  , p=0.2671  , df=3\n",
      "likelihood ratio test: chi2=3.9276  , p=0.2694  , df=3\n",
      "parameter F test:         F=1.2918  , p=0.2769  , df_denom=375, df_num=3\n",
      "\n",
      "Granger Causality\n",
      "number of lags (no zero) 4\n",
      "ssr based F test:         F=3.6235  , p=0.0065  , df_denom=372, df_num=4\n",
      "ssr based chi2 test:   chi2=14.8448 , p=0.0050  , df=4\n",
      "likelihood ratio test: chi2=14.5629 , p=0.0057  , df=4\n",
      "parameter F test:         F=3.6235  , p=0.0065  , df_denom=372, df_num=4\n",
      "\n",
      "Granger Causality\n",
      "number of lags (no zero) 5\n",
      "ssr based F test:         F=3.4309  , p=0.0048  , df_denom=369, df_num=5\n",
      "ssr based chi2 test:   chi2=17.6660 , p=0.0034  , df=5\n",
      "likelihood ratio test: chi2=17.2677 , p=0.0040  , df=5\n",
      "parameter F test:         F=3.4309  , p=0.0048  , df_denom=369, df_num=5\n"
     ]
    }
   ],
   "source": [
    "a=grangercausalitytests(d[:,[0,-1]],5)"
   ]
  },
  {
   "cell_type": "markdown",
   "metadata": {},
   "source": [
    "从以上可以看出该变量的granger检验在4次滞后时未拒绝原假设，因此其具有因果关系"
   ]
  },
  {
   "cell_type": "code",
   "execution_count": null,
   "metadata": {},
   "outputs": [],
   "source": []
  }
 ],
 "metadata": {
  "kernelspec": {
   "display_name": "Python 3",
   "language": "python",
   "name": "python3"
  },
  "language_info": {
   "codemirror_mode": {
    "name": "ipython",
    "version": 3
   },
   "file_extension": ".py",
   "mimetype": "text/x-python",
   "name": "python",
   "nbconvert_exporter": "python",
   "pygments_lexer": "ipython3",
   "version": "3.6.4"
  }
 },
 "nbformat": 4,
 "nbformat_minor": 2
}
